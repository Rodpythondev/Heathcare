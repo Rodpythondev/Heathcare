{
 "cells": [
  {
   "cell_type": "markdown",
   "id": "26a1cb88",
   "metadata": {},
   "source": [
    "### bibliotecas"
   ]
  },
  {
   "cell_type": "code",
   "execution_count": 3,
   "id": "7f38bab6",
   "metadata": {
    "ExecuteTime": {
     "end_time": "2023-02-18T05:28:16.051169Z",
     "start_time": "2023-02-18T05:28:16.048122Z"
    }
   },
   "outputs": [],
   "source": [
    "import numpy as np\n",
    "import pandas as pd\n",
    "import matplotlib.pyplot as plt\n",
    "import seaborn as sns"
   ]
  },
  {
   "cell_type": "markdown",
   "id": "e31a832f",
   "metadata": {},
   "source": [
    "### data base"
   ]
  },
  {
   "cell_type": "code",
   "execution_count": null,
   "id": "f18ea39b",
   "metadata": {},
   "outputs": [],
   "source": [
    "data = pd.read_csv('colocar o nome do arquivo csv aqui ')"
   ]
  }
 ],
 "metadata": {
  "kernelspec": {
   "display_name": "Python 3 (ipykernel)",
   "language": "python",
   "name": "python3"
  },
  "language_info": {
   "codemirror_mode": {
    "name": "ipython",
    "version": 3
   },
   "file_extension": ".py",
   "mimetype": "text/x-python",
   "name": "python",
   "nbconvert_exporter": "python",
   "pygments_lexer": "ipython3",
   "version": "3.9.11"
  },
  "toc": {
   "base_numbering": 1,
   "nav_menu": {},
   "number_sections": true,
   "sideBar": true,
   "skip_h1_title": false,
   "title_cell": "Table of Contents",
   "title_sidebar": "Contents",
   "toc_cell": false,
   "toc_position": {},
   "toc_section_display": true,
   "toc_window_display": false
  }
 },
 "nbformat": 4,
 "nbformat_minor": 5
}
